{
 "cells": [
  {
   "cell_type": "code",
   "execution_count": 1,
   "id": "d1b52170",
   "metadata": {},
   "outputs": [],
   "source": [
    "import pandas as pd\n",
    "import numpy as np\n",
    "import matplotlib.pyplot as plt\n",
    "import seaborn as sns\n",
    "sns.set()"
   ]
  },
  {
   "cell_type": "code",
   "execution_count": 2,
   "id": "e6f072ab",
   "metadata": {},
   "outputs": [],
   "source": [
    "dataset = pd.read_csv(\"wnba.csv\")"
   ]
  },
  {
   "cell_type": "code",
   "execution_count": 3,
   "id": "b2e46472",
   "metadata": {},
   "outputs": [
    {
     "data": {
      "text/html": [
       "<div>\n",
       "<style scoped>\n",
       "    .dataframe tbody tr th:only-of-type {\n",
       "        vertical-align: middle;\n",
       "    }\n",
       "\n",
       "    .dataframe tbody tr th {\n",
       "        vertical-align: top;\n",
       "    }\n",
       "\n",
       "    .dataframe thead th {\n",
       "        text-align: right;\n",
       "    }\n",
       "</style>\n",
       "<table border=\"1\" class=\"dataframe\">\n",
       "  <thead>\n",
       "    <tr style=\"text-align: right;\">\n",
       "      <th></th>\n",
       "      <th>Name</th>\n",
       "      <th>Team</th>\n",
       "      <th>Pos</th>\n",
       "      <th>Height</th>\n",
       "      <th>Weight</th>\n",
       "      <th>BMI</th>\n",
       "      <th>Birth_Place</th>\n",
       "      <th>Birthdate</th>\n",
       "      <th>Age</th>\n",
       "      <th>College</th>\n",
       "      <th>...</th>\n",
       "      <th>OREB</th>\n",
       "      <th>DREB</th>\n",
       "      <th>REB</th>\n",
       "      <th>AST</th>\n",
       "      <th>STL</th>\n",
       "      <th>BLK</th>\n",
       "      <th>TO</th>\n",
       "      <th>PTS</th>\n",
       "      <th>DD2</th>\n",
       "      <th>TD3</th>\n",
       "    </tr>\n",
       "  </thead>\n",
       "  <tbody>\n",
       "    <tr>\n",
       "      <th>0</th>\n",
       "      <td>Aerial Powers</td>\n",
       "      <td>DAL</td>\n",
       "      <td>F</td>\n",
       "      <td>183</td>\n",
       "      <td>71.0</td>\n",
       "      <td>21.200991</td>\n",
       "      <td>US</td>\n",
       "      <td>January 17, 1994</td>\n",
       "      <td>23</td>\n",
       "      <td>Michigan State</td>\n",
       "      <td>...</td>\n",
       "      <td>6</td>\n",
       "      <td>22</td>\n",
       "      <td>28</td>\n",
       "      <td>12</td>\n",
       "      <td>3</td>\n",
       "      <td>6</td>\n",
       "      <td>12</td>\n",
       "      <td>93</td>\n",
       "      <td>0</td>\n",
       "      <td>0</td>\n",
       "    </tr>\n",
       "    <tr>\n",
       "      <th>1</th>\n",
       "      <td>Alana Beard</td>\n",
       "      <td>LA</td>\n",
       "      <td>G/F</td>\n",
       "      <td>185</td>\n",
       "      <td>73.0</td>\n",
       "      <td>21.329438</td>\n",
       "      <td>US</td>\n",
       "      <td>May 14, 1982</td>\n",
       "      <td>35</td>\n",
       "      <td>Duke</td>\n",
       "      <td>...</td>\n",
       "      <td>19</td>\n",
       "      <td>82</td>\n",
       "      <td>101</td>\n",
       "      <td>72</td>\n",
       "      <td>63</td>\n",
       "      <td>13</td>\n",
       "      <td>40</td>\n",
       "      <td>217</td>\n",
       "      <td>0</td>\n",
       "      <td>0</td>\n",
       "    </tr>\n",
       "    <tr>\n",
       "      <th>2</th>\n",
       "      <td>Alex Bentley</td>\n",
       "      <td>CON</td>\n",
       "      <td>G</td>\n",
       "      <td>170</td>\n",
       "      <td>69.0</td>\n",
       "      <td>23.875433</td>\n",
       "      <td>US</td>\n",
       "      <td>October 27, 1990</td>\n",
       "      <td>26</td>\n",
       "      <td>Penn State</td>\n",
       "      <td>...</td>\n",
       "      <td>4</td>\n",
       "      <td>36</td>\n",
       "      <td>40</td>\n",
       "      <td>78</td>\n",
       "      <td>22</td>\n",
       "      <td>3</td>\n",
       "      <td>24</td>\n",
       "      <td>218</td>\n",
       "      <td>0</td>\n",
       "      <td>0</td>\n",
       "    </tr>\n",
       "    <tr>\n",
       "      <th>3</th>\n",
       "      <td>Alex Montgomery</td>\n",
       "      <td>SAN</td>\n",
       "      <td>G/F</td>\n",
       "      <td>185</td>\n",
       "      <td>84.0</td>\n",
       "      <td>24.543462</td>\n",
       "      <td>US</td>\n",
       "      <td>December 11, 1988</td>\n",
       "      <td>28</td>\n",
       "      <td>Georgia Tech</td>\n",
       "      <td>...</td>\n",
       "      <td>35</td>\n",
       "      <td>134</td>\n",
       "      <td>169</td>\n",
       "      <td>65</td>\n",
       "      <td>20</td>\n",
       "      <td>10</td>\n",
       "      <td>38</td>\n",
       "      <td>188</td>\n",
       "      <td>2</td>\n",
       "      <td>0</td>\n",
       "    </tr>\n",
       "    <tr>\n",
       "      <th>4</th>\n",
       "      <td>Alexis Jones</td>\n",
       "      <td>MIN</td>\n",
       "      <td>G</td>\n",
       "      <td>175</td>\n",
       "      <td>78.0</td>\n",
       "      <td>25.469388</td>\n",
       "      <td>US</td>\n",
       "      <td>August 5, 1994</td>\n",
       "      <td>23</td>\n",
       "      <td>Baylor</td>\n",
       "      <td>...</td>\n",
       "      <td>3</td>\n",
       "      <td>9</td>\n",
       "      <td>12</td>\n",
       "      <td>12</td>\n",
       "      <td>7</td>\n",
       "      <td>0</td>\n",
       "      <td>14</td>\n",
       "      <td>50</td>\n",
       "      <td>0</td>\n",
       "      <td>0</td>\n",
       "    </tr>\n",
       "  </tbody>\n",
       "</table>\n",
       "<p>5 rows × 23 columns</p>\n",
       "</div>"
      ],
      "text/plain": [
       "              Name Team  Pos  Height  Weight        BMI Birth_Place  \\\n",
       "0    Aerial Powers  DAL    F     183    71.0  21.200991          US   \n",
       "1      Alana Beard   LA  G/F     185    73.0  21.329438          US   \n",
       "2     Alex Bentley  CON    G     170    69.0  23.875433          US   \n",
       "3  Alex Montgomery  SAN  G/F     185    84.0  24.543462          US   \n",
       "4     Alexis Jones  MIN    G     175    78.0  25.469388          US   \n",
       "\n",
       "           Birthdate  Age         College  ... OREB  DREB  REB  AST  STL  BLK  \\\n",
       "0   January 17, 1994   23  Michigan State  ...    6    22   28   12    3    6   \n",
       "1       May 14, 1982   35            Duke  ...   19    82  101   72   63   13   \n",
       "2   October 27, 1990   26      Penn State  ...    4    36   40   78   22    3   \n",
       "3  December 11, 1988   28    Georgia Tech  ...   35   134  169   65   20   10   \n",
       "4     August 5, 1994   23          Baylor  ...    3     9   12   12    7    0   \n",
       "\n",
       "   TO  PTS  DD2  TD3  \n",
       "0  12   93    0    0  \n",
       "1  40  217    0    0  \n",
       "2  24  218    0    0  \n",
       "3  38  188    2    0  \n",
       "4  14   50    0    0  \n",
       "\n",
       "[5 rows x 23 columns]"
      ]
     },
     "execution_count": 3,
     "metadata": {},
     "output_type": "execute_result"
    }
   ],
   "source": [
    "dataset.head()"
   ]
  },
  {
   "cell_type": "code",
   "execution_count": 4,
   "id": "4acd0e20",
   "metadata": {},
   "outputs": [
    {
     "name": "stdout",
     "output_type": "stream",
     "text": [
      "<class 'pandas.core.frame.DataFrame'>\n",
      "RangeIndex: 143 entries, 0 to 142\n",
      "Data columns (total 23 columns):\n",
      " #   Column        Non-Null Count  Dtype  \n",
      "---  ------        --------------  -----  \n",
      " 0   Name          143 non-null    object \n",
      " 1   Team          143 non-null    object \n",
      " 2   Pos           143 non-null    object \n",
      " 3   Height        143 non-null    int64  \n",
      " 4   Weight        142 non-null    float64\n",
      " 5   BMI           142 non-null    float64\n",
      " 6   Birth_Place   143 non-null    object \n",
      " 7   Birthdate     143 non-null    object \n",
      " 8   Age           143 non-null    int64  \n",
      " 9   College       143 non-null    object \n",
      " 10  Experience    143 non-null    object \n",
      " 11  Games Played  143 non-null    int64  \n",
      " 12  MIN           143 non-null    int64  \n",
      " 13  OREB          143 non-null    int64  \n",
      " 14  DREB          143 non-null    int64  \n",
      " 15  REB           143 non-null    int64  \n",
      " 16  AST           143 non-null    int64  \n",
      " 17  STL           143 non-null    int64  \n",
      " 18  BLK           143 non-null    int64  \n",
      " 19  TO            143 non-null    int64  \n",
      " 20  PTS           143 non-null    int64  \n",
      " 21  DD2           143 non-null    int64  \n",
      " 22  TD3           143 non-null    int64  \n",
      "dtypes: float64(2), int64(14), object(7)\n",
      "memory usage: 25.8+ KB\n"
     ]
    }
   ],
   "source": [
    "dataset.info()"
   ]
  },
  {
   "cell_type": "code",
   "execution_count": 5,
   "id": "5f18e745",
   "metadata": {},
   "outputs": [
    {
     "data": {
      "text/plain": [
       "32"
      ]
     },
     "execution_count": 5,
     "metadata": {},
     "output_type": "execute_result"
    }
   ],
   "source": [
    "parameter = dataset[\"Games Played\"].max()\n",
    "parameter"
   ]
  },
  {
   "cell_type": "code",
   "execution_count": 56,
   "id": "7954ef5f",
   "metadata": {},
   "outputs": [],
   "source": [
    "sample = dataset[\"Games Played\"].sample(30, random_state = 1)"
   ]
  },
  {
   "cell_type": "code",
   "execution_count": 57,
   "id": "5702d133",
   "metadata": {},
   "outputs": [],
   "source": [
    "statistics = sample.max()"
   ]
  },
  {
   "cell_type": "code",
   "execution_count": 58,
   "id": "56a31804",
   "metadata": {},
   "outputs": [
    {
     "data": {
      "text/plain": [
       "30"
      ]
     },
     "execution_count": 58,
     "metadata": {},
     "output_type": "execute_result"
    }
   ],
   "source": [
    "statistics"
   ]
  },
  {
   "cell_type": "code",
   "execution_count": 59,
   "id": "961bd09a",
   "metadata": {},
   "outputs": [],
   "source": [
    "sampling_error = parameter - statistics"
   ]
  },
  {
   "cell_type": "code",
   "execution_count": 60,
   "id": "d69fb29d",
   "metadata": {},
   "outputs": [
    {
     "data": {
      "text/plain": [
       "2"
      ]
     },
     "execution_count": 60,
     "metadata": {},
     "output_type": "execute_result"
    }
   ],
   "source": [
    "sampling_error"
   ]
  },
  {
   "cell_type": "code",
   "execution_count": 61,
   "id": "d69b4d95",
   "metadata": {},
   "outputs": [],
   "source": [
    "population_mean = dataset[\"PTS\"].mean()"
   ]
  },
  {
   "cell_type": "code",
   "execution_count": 62,
   "id": "013b5c99",
   "metadata": {},
   "outputs": [
    {
     "data": {
      "text/plain": [
       "201.7902097902098"
      ]
     },
     "execution_count": 62,
     "metadata": {},
     "output_type": "execute_result"
    }
   ],
   "source": [
    "population_mean"
   ]
  },
  {
   "cell_type": "code",
   "execution_count": 74,
   "id": "6986cbfc",
   "metadata": {},
   "outputs": [],
   "source": [
    "sample_mean = []\n",
    "\n",
    "for i in range(100):\n",
    "    sample = dataset[\"PTS\"].sample(10, random_state = i)\n",
    "    mean = sample.mean()\n",
    "    sample_mean.append(mean)"
   ]
  },
  {
   "cell_type": "code",
   "execution_count": 75,
   "id": "9fa0c4e6",
   "metadata": {},
   "outputs": [
    {
     "name": "stdout",
     "output_type": "stream",
     "text": [
      "[145.1, 185.4, 140.4, 293.7, 172.7, 124.9, 187.8, 157.0, 188.9, 282.0, 241.5, 178.1, 157.0, 301.4, 212.9, 115.0, 135.3, 197.2, 182.5, 236.8, 145.9, 255.9, 161.2, 184.1, 213.6, 139.7, 176.3, 148.5, 118.2, 166.8, 188.3, 140.9, 182.2, 178.9, 187.1, 174.4, 126.6, 204.5, 156.0, 152.1, 193.6, 232.4, 235.1, 181.6, 230.3, 182.2, 229.4, 225.6, 203.6, 177.1, 157.4, 140.8, 147.4, 176.1, 224.5, 220.5, 132.4, 175.8, 244.3, 160.1, 244.7, 294.3, 127.1, 209.3, 173.0, 159.9, 249.9, 145.3, 144.9, 186.1, 172.9, 248.9, 137.4, 137.3, 176.0, 286.7, 258.5, 138.5, 188.5, 135.5, 178.1, 185.3, 252.0, 242.5, 253.7, 183.6, 172.7, 170.3, 148.4, 174.0, 143.9, 275.3, 152.6, 215.6, 179.8, 200.2, 177.3, 213.2, 187.2, 153.1]\n"
     ]
    }
   ],
   "source": [
    "print(sample_mean)"
   ]
  },
  {
   "cell_type": "code",
   "execution_count": 76,
   "id": "981184e2",
   "metadata": {},
   "outputs": [
    {
     "data": {
      "text/plain": [
       "array([ 56.69020979,  16.39020979,  61.39020979, -91.90979021,\n",
       "        29.09020979,  76.89020979,  13.99020979,  44.79020979,\n",
       "        12.89020979, -80.20979021, -39.70979021,  23.69020979,\n",
       "        44.79020979, -99.60979021, -11.10979021,  86.79020979,\n",
       "        66.49020979,   4.59020979,  19.29020979, -35.00979021,\n",
       "        55.89020979, -54.10979021,  40.59020979,  17.69020979,\n",
       "       -11.80979021,  62.09020979,  25.49020979,  53.29020979,\n",
       "        83.59020979,  34.99020979,  13.49020979,  60.89020979,\n",
       "        19.59020979,  22.89020979,  14.69020979,  27.39020979,\n",
       "        75.19020979,  -2.70979021,  45.79020979,  49.69020979,\n",
       "         8.19020979, -30.60979021, -33.30979021,  20.19020979,\n",
       "       -28.50979021,  19.59020979, -27.60979021, -23.80979021,\n",
       "        -1.80979021,  24.69020979,  44.39020979,  60.99020979,\n",
       "        54.39020979,  25.69020979, -22.70979021, -18.70979021,\n",
       "        69.39020979,  25.99020979, -42.50979021,  41.69020979,\n",
       "       -42.90979021, -92.50979021,  74.69020979,  -7.50979021,\n",
       "        28.79020979,  41.89020979, -48.10979021,  56.49020979,\n",
       "        56.89020979,  15.69020979,  28.89020979, -47.10979021,\n",
       "        64.39020979,  64.49020979,  25.79020979, -84.90979021,\n",
       "       -56.70979021,  63.29020979,  13.29020979,  66.29020979,\n",
       "        23.69020979,  16.49020979, -50.20979021, -40.70979021,\n",
       "       -51.90979021,  18.19020979,  29.09020979,  31.49020979,\n",
       "        53.39020979,  27.79020979,  57.89020979, -73.50979021,\n",
       "        49.19020979, -13.80979021,  21.99020979,   1.59020979,\n",
       "        24.49020979, -11.40979021,  14.59020979,  48.69020979])"
      ]
     },
     "execution_count": 76,
     "metadata": {},
     "output_type": "execute_result"
    }
   ],
   "source": [
    "sampling_error = population_mean - np.array(sample_mean)\n",
    "sampling_error"
   ]
  },
  {
   "cell_type": "code",
   "execution_count": 77,
   "id": "c9194570",
   "metadata": {},
   "outputs": [
    {
     "data": {
      "image/png": "[encoded data removed]",
      "text/plain": [
       "<Figure size 640x480 with 1 Axes>"
      ]
     },
     "metadata": {},
     "output_type": "display_data"
    }
   ],
   "source": [
    "plt.scatter(range(1,101), sample_mean)\n",
    "plt.ylim(100,350)\n",
    "plt.axhline(population_mean, color = \"red\")\n",
    "plt.show()"
   ]
  },
  {
   "cell_type": "code",
   "execution_count": 79,
   "id": "e5714e68",
   "metadata": {},
   "outputs": [
    {
     "data": {
      "text/plain": [
       "array(['F', 'G/F', 'G', 'C', 'F/C'], dtype=object)"
      ]
     },
     "execution_count": 79,
     "metadata": {},
     "output_type": "execute_result"
    }
   ],
   "source": [
    "dataset[\"Pos\"].unique()"
   ]
  },
  {
   "cell_type": "code",
   "execution_count": 80,
   "id": "0f3c9352",
   "metadata": {},
   "outputs": [],
   "source": [
    "stratums = dataset.groupby(\"Pos\")"
   ]
  },
  {
   "cell_type": "code",
   "execution_count": 82,
   "id": "4a6e35ce",
   "metadata": {},
   "outputs": [],
   "source": [
    "stratums_name = stratums.groups.keys()"
   ]
  },
  {
   "cell_type": "code",
   "execution_count": 83,
   "id": "d92073fc",
   "metadata": {},
   "outputs": [
    {
     "data": {
      "text/plain": [
       "dict_keys(['C', 'F', 'F/C', 'G', 'G/F'])"
      ]
     },
     "execution_count": 83,
     "metadata": {},
     "output_type": "execute_result"
    }
   ],
   "source": [
    "stratums_name"
   ]
  },
  {
   "cell_type": "code",
   "execution_count": 88,
   "id": "84208202",
   "metadata": {},
   "outputs": [
    {
     "data": {
      "text/plain": [
       "C      17.48\n",
       "F      23.08\n",
       "F/C     8.39\n",
       "G      41.96\n",
       "G/F     9.09\n",
       "Name: Pos, dtype: float64"
      ]
     },
     "execution_count": 88,
     "metadata": {},
     "output_type": "execute_result"
    }
   ],
   "source": [
    "round(dataset[\"Pos\"].value_counts(normalize = True)*100,2).sort_index()"
   ]
  },
  {
   "cell_type": "code",
   "execution_count": 89,
   "id": "87a46a8c",
   "metadata": {},
   "outputs": [],
   "source": [
    "# 2, 2, 1, 4, 1"
   ]
  },
  {
   "cell_type": "code",
   "execution_count": 91,
   "id": "23c5278e",
   "metadata": {},
   "outputs": [
    {
     "data": {
      "text/plain": [
       "dict_keys(['C', 'F', 'F/C', 'G', 'G/F'])"
      ]
     },
     "execution_count": 91,
     "metadata": {},
     "output_type": "execute_result"
    }
   ],
   "source": [
    "stratums_name"
   ]
  },
  {
   "cell_type": "code",
   "execution_count": 90,
   "id": "74d79159",
   "metadata": {},
   "outputs": [],
   "source": [
    "sample_size_position = [2, 2, 1, 4, 1]"
   ]
  },
  {
   "cell_type": "code",
   "execution_count": 96,
   "id": "f6373da7",
   "metadata": {},
   "outputs": [
    {
     "name": "stderr",
     "output_type": "stream",
     "text": [
      "C:\\Users\\techm\\AppData\\Local\\Temp\\ipykernel_11796\\268501746.py:4: FutureWarning: The default dtype for empty Series will be 'object' instead of 'float64' in a future version. Specify a dtype explicitly to silence this warning.\n",
      "  final_sample = pd.Series() # [1,2,4,3]\n",
      "C:\\Users\\techm\\AppData\\Local\\Temp\\ipykernel_11796\\268501746.py:4: FutureWarning: The default dtype for empty Series will be 'object' instead of 'float64' in a future version. Specify a dtype explicitly to silence this warning.\n",
      "  final_sample = pd.Series() # [1,2,4,3]\n",
      "C:\\Users\\techm\\AppData\\Local\\Temp\\ipykernel_11796\\268501746.py:4: FutureWarning: The default dtype for empty Series will be 'object' instead of 'float64' in a future version. Specify a dtype explicitly to silence this warning.\n",
      "  final_sample = pd.Series() # [1,2,4,3]\n",
      "C:\\Users\\techm\\AppData\\Local\\Temp\\ipykernel_11796\\268501746.py:4: FutureWarning: The default dtype for empty Series will be 'object' instead of 'float64' in a future version. Specify a dtype explicitly to silence this warning.\n",
      "  final_sample = pd.Series() # [1,2,4,3]\n",
      "C:\\Users\\techm\\AppData\\Local\\Temp\\ipykernel_11796\\268501746.py:4: FutureWarning: The default dtype for empty Series will be 'object' instead of 'float64' in a future version. Specify a dtype explicitly to silence this warning.\n",
      "  final_sample = pd.Series() # [1,2,4,3]\n",
      "C:\\Users\\techm\\AppData\\Local\\Temp\\ipykernel_11796\\268501746.py:4: FutureWarning: The default dtype for empty Series will be 'object' instead of 'float64' in a future version. Specify a dtype explicitly to silence this warning.\n",
      "  final_sample = pd.Series() # [1,2,4,3]\n",
      "C:\\Users\\techm\\AppData\\Local\\Temp\\ipykernel_11796\\268501746.py:4: FutureWarning: The default dtype for empty Series will be 'object' instead of 'float64' in a future version. Specify a dtype explicitly to silence this warning.\n",
      "  final_sample = pd.Series() # [1,2,4,3]\n",
      "C:\\Users\\techm\\AppData\\Local\\Temp\\ipykernel_11796\\268501746.py:4: FutureWarning: The default dtype for empty Series will be 'object' instead of 'float64' in a future version. Specify a dtype explicitly to silence this warning.\n",
      "  final_sample = pd.Series() # [1,2,4,3]\n",
      "C:\\Users\\techm\\AppData\\Local\\Temp\\ipykernel_11796\\268501746.py:4: FutureWarning: The default dtype for empty Series will be 'object' instead of 'float64' in a future version. Specify a dtype explicitly to silence this warning.\n",
      "  final_sample = pd.Series() # [1,2,4,3]\n",
      "C:\\Users\\techm\\AppData\\Local\\Temp\\ipykernel_11796\\268501746.py:4: FutureWarning: The default dtype for empty Series will be 'object' instead of 'float64' in a future version. Specify a dtype explicitly to silence this warning.\n",
      "  final_sample = pd.Series() # [1,2,4,3]\n",
      "C:\\Users\\techm\\AppData\\Local\\Temp\\ipykernel_11796\\268501746.py:4: FutureWarning: The default dtype for empty Series will be 'object' instead of 'float64' in a future version. Specify a dtype explicitly to silence this warning.\n",
      "  final_sample = pd.Series() # [1,2,4,3]\n",
      "C:\\Users\\techm\\AppData\\Local\\Temp\\ipykernel_11796\\268501746.py:4: FutureWarning: The default dtype for empty Series will be 'object' instead of 'float64' in a future version. Specify a dtype explicitly to silence this warning.\n",
      "  final_sample = pd.Series() # [1,2,4,3]\n",
      "C:\\Users\\techm\\AppData\\Local\\Temp\\ipykernel_11796\\268501746.py:4: FutureWarning: The default dtype for empty Series will be 'object' instead of 'float64' in a future version. Specify a dtype explicitly to silence this warning.\n",
      "  final_sample = pd.Series() # [1,2,4,3]\n",
      "C:\\Users\\techm\\AppData\\Local\\Temp\\ipykernel_11796\\268501746.py:4: FutureWarning: The default dtype for empty Series will be 'object' instead of 'float64' in a future version. Specify a dtype explicitly to silence this warning.\n",
      "  final_sample = pd.Series() # [1,2,4,3]\n",
      "C:\\Users\\techm\\AppData\\Local\\Temp\\ipykernel_11796\\268501746.py:4: FutureWarning: The default dtype for empty Series will be 'object' instead of 'float64' in a future version. Specify a dtype explicitly to silence this warning.\n",
      "  final_sample = pd.Series() # [1,2,4,3]\n",
      "C:\\Users\\techm\\AppData\\Local\\Temp\\ipykernel_11796\\268501746.py:4: FutureWarning: The default dtype for empty Series will be 'object' instead of 'float64' in a future version. Specify a dtype explicitly to silence this warning.\n",
      "  final_sample = pd.Series() # [1,2,4,3]\n",
      "C:\\Users\\techm\\AppData\\Local\\Temp\\ipykernel_11796\\268501746.py:4: FutureWarning: The default dtype for empty Series will be 'object' instead of 'float64' in a future version. Specify a dtype explicitly to silence this warning.\n",
      "  final_sample = pd.Series() # [1,2,4,3]\n",
      "C:\\Users\\techm\\AppData\\Local\\Temp\\ipykernel_11796\\268501746.py:4: FutureWarning: The default dtype for empty Series will be 'object' instead of 'float64' in a future version. Specify a dtype explicitly to silence this warning.\n",
      "  final_sample = pd.Series() # [1,2,4,3]\n",
      "C:\\Users\\techm\\AppData\\Local\\Temp\\ipykernel_11796\\268501746.py:4: FutureWarning: The default dtype for empty Series will be 'object' instead of 'float64' in a future version. Specify a dtype explicitly to silence this warning.\n",
      "  final_sample = pd.Series() # [1,2,4,3]\n",
      "C:\\Users\\techm\\AppData\\Local\\Temp\\ipykernel_11796\\268501746.py:4: FutureWarning: The default dtype for empty Series will be 'object' instead of 'float64' in a future version. Specify a dtype explicitly to silence this warning.\n",
      "  final_sample = pd.Series() # [1,2,4,3]\n",
      "C:\\Users\\techm\\AppData\\Local\\Temp\\ipykernel_11796\\268501746.py:4: FutureWarning: The default dtype for empty Series will be 'object' instead of 'float64' in a future version. Specify a dtype explicitly to silence this warning.\n",
      "  final_sample = pd.Series() # [1,2,4,3]\n",
      "C:\\Users\\techm\\AppData\\Local\\Temp\\ipykernel_11796\\268501746.py:4: FutureWarning: The default dtype for empty Series will be 'object' instead of 'float64' in a future version. Specify a dtype explicitly to silence this warning.\n",
      "  final_sample = pd.Series() # [1,2,4,3]\n",
      "C:\\Users\\techm\\AppData\\Local\\Temp\\ipykernel_11796\\268501746.py:4: FutureWarning: The default dtype for empty Series will be 'object' instead of 'float64' in a future version. Specify a dtype explicitly to silence this warning.\n",
      "  final_sample = pd.Series() # [1,2,4,3]\n",
      "C:\\Users\\techm\\AppData\\Local\\Temp\\ipykernel_11796\\268501746.py:4: FutureWarning: The default dtype for empty Series will be 'object' instead of 'float64' in a future version. Specify a dtype explicitly to silence this warning.\n",
      "  final_sample = pd.Series() # [1,2,4,3]\n",
      "C:\\Users\\techm\\AppData\\Local\\Temp\\ipykernel_11796\\268501746.py:4: FutureWarning: The default dtype for empty Series will be 'object' instead of 'float64' in a future version. Specify a dtype explicitly to silence this warning.\n",
      "  final_sample = pd.Series() # [1,2,4,3]\n",
      "C:\\Users\\techm\\AppData\\Local\\Temp\\ipykernel_11796\\268501746.py:4: FutureWarning: The default dtype for empty Series will be 'object' instead of 'float64' in a future version. Specify a dtype explicitly to silence this warning.\n",
      "  final_sample = pd.Series() # [1,2,4,3]\n",
      "C:\\Users\\techm\\AppData\\Local\\Temp\\ipykernel_11796\\268501746.py:4: FutureWarning: The default dtype for empty Series will be 'object' instead of 'float64' in a future version. Specify a dtype explicitly to silence this warning.\n",
      "  final_sample = pd.Series() # [1,2,4,3]\n",
      "C:\\Users\\techm\\AppData\\Local\\Temp\\ipykernel_11796\\268501746.py:4: FutureWarning: The default dtype for empty Series will be 'object' instead of 'float64' in a future version. Specify a dtype explicitly to silence this warning.\n",
      "  final_sample = pd.Series() # [1,2,4,3]\n",
      "C:\\Users\\techm\\AppData\\Local\\Temp\\ipykernel_11796\\268501746.py:4: FutureWarning: The default dtype for empty Series will be 'object' instead of 'float64' in a future version. Specify a dtype explicitly to silence this warning.\n",
      "  final_sample = pd.Series() # [1,2,4,3]\n",
      "C:\\Users\\techm\\AppData\\Local\\Temp\\ipykernel_11796\\268501746.py:4: FutureWarning: The default dtype for empty Series will be 'object' instead of 'float64' in a future version. Specify a dtype explicitly to silence this warning.\n",
      "  final_sample = pd.Series() # [1,2,4,3]\n",
      "C:\\Users\\techm\\AppData\\Local\\Temp\\ipykernel_11796\\268501746.py:4: FutureWarning: The default dtype for empty Series will be 'object' instead of 'float64' in a future version. Specify a dtype explicitly to silence this warning.\n",
      "  final_sample = pd.Series() # [1,2,4,3]\n",
      "C:\\Users\\techm\\AppData\\Local\\Temp\\ipykernel_11796\\268501746.py:4: FutureWarning: The default dtype for empty Series will be 'object' instead of 'float64' in a future version. Specify a dtype explicitly to silence this warning.\n",
      "  final_sample = pd.Series() # [1,2,4,3]\n",
      "C:\\Users\\techm\\AppData\\Local\\Temp\\ipykernel_11796\\268501746.py:4: FutureWarning: The default dtype for empty Series will be 'object' instead of 'float64' in a future version. Specify a dtype explicitly to silence this warning.\n",
      "  final_sample = pd.Series() # [1,2,4,3]\n",
      "C:\\Users\\techm\\AppData\\Local\\Temp\\ipykernel_11796\\268501746.py:4: FutureWarning: The default dtype for empty Series will be 'object' instead of 'float64' in a future version. Specify a dtype explicitly to silence this warning.\n",
      "  final_sample = pd.Series() # [1,2,4,3]\n",
      "C:\\Users\\techm\\AppData\\Local\\Temp\\ipykernel_11796\\268501746.py:4: FutureWarning: The default dtype for empty Series will be 'object' instead of 'float64' in a future version. Specify a dtype explicitly to silence this warning.\n",
      "  final_sample = pd.Series() # [1,2,4,3]\n",
      "C:\\Users\\techm\\AppData\\Local\\Temp\\ipykernel_11796\\268501746.py:4: FutureWarning: The default dtype for empty Series will be 'object' instead of 'float64' in a future version. Specify a dtype explicitly to silence this warning.\n",
      "  final_sample = pd.Series() # [1,2,4,3]\n",
      "C:\\Users\\techm\\AppData\\Local\\Temp\\ipykernel_11796\\268501746.py:4: FutureWarning: The default dtype for empty Series will be 'object' instead of 'float64' in a future version. Specify a dtype explicitly to silence this warning.\n",
      "  final_sample = pd.Series() # [1,2,4,3]\n",
      "C:\\Users\\techm\\AppData\\Local\\Temp\\ipykernel_11796\\268501746.py:4: FutureWarning: The default dtype for empty Series will be 'object' instead of 'float64' in a future version. Specify a dtype explicitly to silence this warning.\n",
      "  final_sample = pd.Series() # [1,2,4,3]\n",
      "C:\\Users\\techm\\AppData\\Local\\Temp\\ipykernel_11796\\268501746.py:4: FutureWarning: The default dtype for empty Series will be 'object' instead of 'float64' in a future version. Specify a dtype explicitly to silence this warning.\n",
      "  final_sample = pd.Series() # [1,2,4,3]\n"
     ]
    },
    {
     "name": "stderr",
     "output_type": "stream",
     "text": [
      "C:\\Users\\techm\\AppData\\Local\\Temp\\ipykernel_11796\\268501746.py:4: FutureWarning: The default dtype for empty Series will be 'object' instead of 'float64' in a future version. Specify a dtype explicitly to silence this warning.\n",
      "  final_sample = pd.Series() # [1,2,4,3]\n",
      "C:\\Users\\techm\\AppData\\Local\\Temp\\ipykernel_11796\\268501746.py:4: FutureWarning: The default dtype for empty Series will be 'object' instead of 'float64' in a future version. Specify a dtype explicitly to silence this warning.\n",
      "  final_sample = pd.Series() # [1,2,4,3]\n",
      "C:\\Users\\techm\\AppData\\Local\\Temp\\ipykernel_11796\\268501746.py:4: FutureWarning: The default dtype for empty Series will be 'object' instead of 'float64' in a future version. Specify a dtype explicitly to silence this warning.\n",
      "  final_sample = pd.Series() # [1,2,4,3]\n",
      "C:\\Users\\techm\\AppData\\Local\\Temp\\ipykernel_11796\\268501746.py:4: FutureWarning: The default dtype for empty Series will be 'object' instead of 'float64' in a future version. Specify a dtype explicitly to silence this warning.\n",
      "  final_sample = pd.Series() # [1,2,4,3]\n",
      "C:\\Users\\techm\\AppData\\Local\\Temp\\ipykernel_11796\\268501746.py:4: FutureWarning: The default dtype for empty Series will be 'object' instead of 'float64' in a future version. Specify a dtype explicitly to silence this warning.\n",
      "  final_sample = pd.Series() # [1,2,4,3]\n",
      "C:\\Users\\techm\\AppData\\Local\\Temp\\ipykernel_11796\\268501746.py:4: FutureWarning: The default dtype for empty Series will be 'object' instead of 'float64' in a future version. Specify a dtype explicitly to silence this warning.\n",
      "  final_sample = pd.Series() # [1,2,4,3]\n",
      "C:\\Users\\techm\\AppData\\Local\\Temp\\ipykernel_11796\\268501746.py:4: FutureWarning: The default dtype for empty Series will be 'object' instead of 'float64' in a future version. Specify a dtype explicitly to silence this warning.\n",
      "  final_sample = pd.Series() # [1,2,4,3]\n",
      "C:\\Users\\techm\\AppData\\Local\\Temp\\ipykernel_11796\\268501746.py:4: FutureWarning: The default dtype for empty Series will be 'object' instead of 'float64' in a future version. Specify a dtype explicitly to silence this warning.\n",
      "  final_sample = pd.Series() # [1,2,4,3]\n",
      "C:\\Users\\techm\\AppData\\Local\\Temp\\ipykernel_11796\\268501746.py:4: FutureWarning: The default dtype for empty Series will be 'object' instead of 'float64' in a future version. Specify a dtype explicitly to silence this warning.\n",
      "  final_sample = pd.Series() # [1,2,4,3]\n",
      "C:\\Users\\techm\\AppData\\Local\\Temp\\ipykernel_11796\\268501746.py:4: FutureWarning: The default dtype for empty Series will be 'object' instead of 'float64' in a future version. Specify a dtype explicitly to silence this warning.\n",
      "  final_sample = pd.Series() # [1,2,4,3]\n",
      "C:\\Users\\techm\\AppData\\Local\\Temp\\ipykernel_11796\\268501746.py:4: FutureWarning: The default dtype for empty Series will be 'object' instead of 'float64' in a future version. Specify a dtype explicitly to silence this warning.\n",
      "  final_sample = pd.Series() # [1,2,4,3]\n",
      "C:\\Users\\techm\\AppData\\Local\\Temp\\ipykernel_11796\\268501746.py:4: FutureWarning: The default dtype for empty Series will be 'object' instead of 'float64' in a future version. Specify a dtype explicitly to silence this warning.\n",
      "  final_sample = pd.Series() # [1,2,4,3]\n",
      "C:\\Users\\techm\\AppData\\Local\\Temp\\ipykernel_11796\\268501746.py:4: FutureWarning: The default dtype for empty Series will be 'object' instead of 'float64' in a future version. Specify a dtype explicitly to silence this warning.\n",
      "  final_sample = pd.Series() # [1,2,4,3]\n",
      "C:\\Users\\techm\\AppData\\Local\\Temp\\ipykernel_11796\\268501746.py:4: FutureWarning: The default dtype for empty Series will be 'object' instead of 'float64' in a future version. Specify a dtype explicitly to silence this warning.\n",
      "  final_sample = pd.Series() # [1,2,4,3]\n",
      "C:\\Users\\techm\\AppData\\Local\\Temp\\ipykernel_11796\\268501746.py:4: FutureWarning: The default dtype for empty Series will be 'object' instead of 'float64' in a future version. Specify a dtype explicitly to silence this warning.\n",
      "  final_sample = pd.Series() # [1,2,4,3]\n",
      "C:\\Users\\techm\\AppData\\Local\\Temp\\ipykernel_11796\\268501746.py:4: FutureWarning: The default dtype for empty Series will be 'object' instead of 'float64' in a future version. Specify a dtype explicitly to silence this warning.\n",
      "  final_sample = pd.Series() # [1,2,4,3]\n",
      "C:\\Users\\techm\\AppData\\Local\\Temp\\ipykernel_11796\\268501746.py:4: FutureWarning: The default dtype for empty Series will be 'object' instead of 'float64' in a future version. Specify a dtype explicitly to silence this warning.\n",
      "  final_sample = pd.Series() # [1,2,4,3]\n",
      "C:\\Users\\techm\\AppData\\Local\\Temp\\ipykernel_11796\\268501746.py:4: FutureWarning: The default dtype for empty Series will be 'object' instead of 'float64' in a future version. Specify a dtype explicitly to silence this warning.\n",
      "  final_sample = pd.Series() # [1,2,4,3]\n",
      "C:\\Users\\techm\\AppData\\Local\\Temp\\ipykernel_11796\\268501746.py:4: FutureWarning: The default dtype for empty Series will be 'object' instead of 'float64' in a future version. Specify a dtype explicitly to silence this warning.\n",
      "  final_sample = pd.Series() # [1,2,4,3]\n",
      "C:\\Users\\techm\\AppData\\Local\\Temp\\ipykernel_11796\\268501746.py:4: FutureWarning: The default dtype for empty Series will be 'object' instead of 'float64' in a future version. Specify a dtype explicitly to silence this warning.\n",
      "  final_sample = pd.Series() # [1,2,4,3]\n",
      "C:\\Users\\techm\\AppData\\Local\\Temp\\ipykernel_11796\\268501746.py:4: FutureWarning: The default dtype for empty Series will be 'object' instead of 'float64' in a future version. Specify a dtype explicitly to silence this warning.\n",
      "  final_sample = pd.Series() # [1,2,4,3]\n",
      "C:\\Users\\techm\\AppData\\Local\\Temp\\ipykernel_11796\\268501746.py:4: FutureWarning: The default dtype for empty Series will be 'object' instead of 'float64' in a future version. Specify a dtype explicitly to silence this warning.\n",
      "  final_sample = pd.Series() # [1,2,4,3]\n",
      "C:\\Users\\techm\\AppData\\Local\\Temp\\ipykernel_11796\\268501746.py:4: FutureWarning: The default dtype for empty Series will be 'object' instead of 'float64' in a future version. Specify a dtype explicitly to silence this warning.\n",
      "  final_sample = pd.Series() # [1,2,4,3]\n",
      "C:\\Users\\techm\\AppData\\Local\\Temp\\ipykernel_11796\\268501746.py:4: FutureWarning: The default dtype for empty Series will be 'object' instead of 'float64' in a future version. Specify a dtype explicitly to silence this warning.\n",
      "  final_sample = pd.Series() # [1,2,4,3]\n",
      "C:\\Users\\techm\\AppData\\Local\\Temp\\ipykernel_11796\\268501746.py:4: FutureWarning: The default dtype for empty Series will be 'object' instead of 'float64' in a future version. Specify a dtype explicitly to silence this warning.\n",
      "  final_sample = pd.Series() # [1,2,4,3]\n",
      "C:\\Users\\techm\\AppData\\Local\\Temp\\ipykernel_11796\\268501746.py:4: FutureWarning: The default dtype for empty Series will be 'object' instead of 'float64' in a future version. Specify a dtype explicitly to silence this warning.\n",
      "  final_sample = pd.Series() # [1,2,4,3]\n",
      "C:\\Users\\techm\\AppData\\Local\\Temp\\ipykernel_11796\\268501746.py:4: FutureWarning: The default dtype for empty Series will be 'object' instead of 'float64' in a future version. Specify a dtype explicitly to silence this warning.\n",
      "  final_sample = pd.Series() # [1,2,4,3]\n",
      "C:\\Users\\techm\\AppData\\Local\\Temp\\ipykernel_11796\\268501746.py:4: FutureWarning: The default dtype for empty Series will be 'object' instead of 'float64' in a future version. Specify a dtype explicitly to silence this warning.\n",
      "  final_sample = pd.Series() # [1,2,4,3]\n",
      "C:\\Users\\techm\\AppData\\Local\\Temp\\ipykernel_11796\\268501746.py:4: FutureWarning: The default dtype for empty Series will be 'object' instead of 'float64' in a future version. Specify a dtype explicitly to silence this warning.\n",
      "  final_sample = pd.Series() # [1,2,4,3]\n",
      "C:\\Users\\techm\\AppData\\Local\\Temp\\ipykernel_11796\\268501746.py:4: FutureWarning: The default dtype for empty Series will be 'object' instead of 'float64' in a future version. Specify a dtype explicitly to silence this warning.\n",
      "  final_sample = pd.Series() # [1,2,4,3]\n",
      "C:\\Users\\techm\\AppData\\Local\\Temp\\ipykernel_11796\\268501746.py:4: FutureWarning: The default dtype for empty Series will be 'object' instead of 'float64' in a future version. Specify a dtype explicitly to silence this warning.\n",
      "  final_sample = pd.Series() # [1,2,4,3]\n",
      "C:\\Users\\techm\\AppData\\Local\\Temp\\ipykernel_11796\\268501746.py:4: FutureWarning: The default dtype for empty Series will be 'object' instead of 'float64' in a future version. Specify a dtype explicitly to silence this warning.\n",
      "  final_sample = pd.Series() # [1,2,4,3]\n",
      "C:\\Users\\techm\\AppData\\Local\\Temp\\ipykernel_11796\\268501746.py:4: FutureWarning: The default dtype for empty Series will be 'object' instead of 'float64' in a future version. Specify a dtype explicitly to silence this warning.\n",
      "  final_sample = pd.Series() # [1,2,4,3]\n",
      "C:\\Users\\techm\\AppData\\Local\\Temp\\ipykernel_11796\\268501746.py:4: FutureWarning: The default dtype for empty Series will be 'object' instead of 'float64' in a future version. Specify a dtype explicitly to silence this warning.\n",
      "  final_sample = pd.Series() # [1,2,4,3]\n",
      "C:\\Users\\techm\\AppData\\Local\\Temp\\ipykernel_11796\\268501746.py:4: FutureWarning: The default dtype for empty Series will be 'object' instead of 'float64' in a future version. Specify a dtype explicitly to silence this warning.\n",
      "  final_sample = pd.Series() # [1,2,4,3]\n",
      "C:\\Users\\techm\\AppData\\Local\\Temp\\ipykernel_11796\\268501746.py:4: FutureWarning: The default dtype for empty Series will be 'object' instead of 'float64' in a future version. Specify a dtype explicitly to silence this warning.\n",
      "  final_sample = pd.Series() # [1,2,4,3]\n",
      "C:\\Users\\techm\\AppData\\Local\\Temp\\ipykernel_11796\\268501746.py:4: FutureWarning: The default dtype for empty Series will be 'object' instead of 'float64' in a future version. Specify a dtype explicitly to silence this warning.\n",
      "  final_sample = pd.Series() # [1,2,4,3]\n",
      "C:\\Users\\techm\\AppData\\Local\\Temp\\ipykernel_11796\\268501746.py:4: FutureWarning: The default dtype for empty Series will be 'object' instead of 'float64' in a future version. Specify a dtype explicitly to silence this warning.\n",
      "  final_sample = pd.Series() # [1,2,4,3]\n",
      "C:\\Users\\techm\\AppData\\Local\\Temp\\ipykernel_11796\\268501746.py:4: FutureWarning: The default dtype for empty Series will be 'object' instead of 'float64' in a future version. Specify a dtype explicitly to silence this warning.\n",
      "  final_sample = pd.Series() # [1,2,4,3]\n",
      "C:\\Users\\techm\\AppData\\Local\\Temp\\ipykernel_11796\\268501746.py:4: FutureWarning: The default dtype for empty Series will be 'object' instead of 'float64' in a future version. Specify a dtype explicitly to silence this warning.\n",
      "  final_sample = pd.Series() # [1,2,4,3]\n",
      "C:\\Users\\techm\\AppData\\Local\\Temp\\ipykernel_11796\\268501746.py:4: FutureWarning: The default dtype for empty Series will be 'object' instead of 'float64' in a future version. Specify a dtype explicitly to silence this warning.\n",
      "  final_sample = pd.Series() # [1,2,4,3]\n",
      "C:\\Users\\techm\\AppData\\Local\\Temp\\ipykernel_11796\\268501746.py:4: FutureWarning: The default dtype for empty Series will be 'object' instead of 'float64' in a future version. Specify a dtype explicitly to silence this warning.\n",
      "  final_sample = pd.Series() # [1,2,4,3]\n",
      "C:\\Users\\techm\\AppData\\Local\\Temp\\ipykernel_11796\\268501746.py:4: FutureWarning: The default dtype for empty Series will be 'object' instead of 'float64' in a future version. Specify a dtype explicitly to silence this warning.\n",
      "  final_sample = pd.Series() # [1,2,4,3]\n",
      "C:\\Users\\techm\\AppData\\Local\\Temp\\ipykernel_11796\\268501746.py:4: FutureWarning: The default dtype for empty Series will be 'object' instead of 'float64' in a future version. Specify a dtype explicitly to silence this warning.\n",
      "  final_sample = pd.Series() # [1,2,4,3]\n",
      "C:\\Users\\techm\\AppData\\Local\\Temp\\ipykernel_11796\\268501746.py:4: FutureWarning: The default dtype for empty Series will be 'object' instead of 'float64' in a future version. Specify a dtype explicitly to silence this warning.\n",
      "  final_sample = pd.Series() # [1,2,4,3]\n",
      "C:\\Users\\techm\\AppData\\Local\\Temp\\ipykernel_11796\\268501746.py:4: FutureWarning: The default dtype for empty Series will be 'object' instead of 'float64' in a future version. Specify a dtype explicitly to silence this warning.\n",
      "  final_sample = pd.Series() # [1,2,4,3]\n",
      "C:\\Users\\techm\\AppData\\Local\\Temp\\ipykernel_11796\\268501746.py:4: FutureWarning: The default dtype for empty Series will be 'object' instead of 'float64' in a future version. Specify a dtype explicitly to silence this warning.\n",
      "  final_sample = pd.Series() # [1,2,4,3]\n",
      "C:\\Users\\techm\\AppData\\Local\\Temp\\ipykernel_11796\\268501746.py:4: FutureWarning: The default dtype for empty Series will be 'object' instead of 'float64' in a future version. Specify a dtype explicitly to silence this warning.\n",
      "  final_sample = pd.Series() # [1,2,4,3]\n",
      "C:\\Users\\techm\\AppData\\Local\\Temp\\ipykernel_11796\\268501746.py:4: FutureWarning: The default dtype for empty Series will be 'object' instead of 'float64' in a future version. Specify a dtype explicitly to silence this warning.\n",
      "  final_sample = pd.Series() # [1,2,4,3]\n",
      "C:\\Users\\techm\\AppData\\Local\\Temp\\ipykernel_11796\\268501746.py:4: FutureWarning: The default dtype for empty Series will be 'object' instead of 'float64' in a future version. Specify a dtype explicitly to silence this warning.\n",
      "  final_sample = pd.Series() # [1,2,4,3]\n",
      "C:\\Users\\techm\\AppData\\Local\\Temp\\ipykernel_11796\\268501746.py:4: FutureWarning: The default dtype for empty Series will be 'object' instead of 'float64' in a future version. Specify a dtype explicitly to silence this warning.\n",
      "  final_sample = pd.Series() # [1,2,4,3]\n",
      "C:\\Users\\techm\\AppData\\Local\\Temp\\ipykernel_11796\\268501746.py:4: FutureWarning: The default dtype for empty Series will be 'object' instead of 'float64' in a future version. Specify a dtype explicitly to silence this warning.\n",
      "  final_sample = pd.Series() # [1,2,4,3]\n",
      "C:\\Users\\techm\\AppData\\Local\\Temp\\ipykernel_11796\\268501746.py:4: FutureWarning: The default dtype for empty Series will be 'object' instead of 'float64' in a future version. Specify a dtype explicitly to silence this warning.\n",
      "  final_sample = pd.Series() # [1,2,4,3]\n",
      "C:\\Users\\techm\\AppData\\Local\\Temp\\ipykernel_11796\\268501746.py:4: FutureWarning: The default dtype for empty Series will be 'object' instead of 'float64' in a future version. Specify a dtype explicitly to silence this warning.\n",
      "  final_sample = pd.Series() # [1,2,4,3]\n",
      "C:\\Users\\techm\\AppData\\Local\\Temp\\ipykernel_11796\\268501746.py:4: FutureWarning: The default dtype for empty Series will be 'object' instead of 'float64' in a future version. Specify a dtype explicitly to silence this warning.\n",
      "  final_sample = pd.Series() # [1,2,4,3]\n",
      "C:\\Users\\techm\\AppData\\Local\\Temp\\ipykernel_11796\\268501746.py:4: FutureWarning: The default dtype for empty Series will be 'object' instead of 'float64' in a future version. Specify a dtype explicitly to silence this warning.\n",
      "  final_sample = pd.Series() # [1,2,4,3]\n",
      "C:\\Users\\techm\\AppData\\Local\\Temp\\ipykernel_11796\\268501746.py:4: FutureWarning: The default dtype for empty Series will be 'object' instead of 'float64' in a future version. Specify a dtype explicitly to silence this warning.\n",
      "  final_sample = pd.Series() # [1,2,4,3]\n",
      "C:\\Users\\techm\\AppData\\Local\\Temp\\ipykernel_11796\\268501746.py:4: FutureWarning: The default dtype for empty Series will be 'object' instead of 'float64' in a future version. Specify a dtype explicitly to silence this warning.\n",
      "  final_sample = pd.Series() # [1,2,4,3]\n",
      "C:\\Users\\techm\\AppData\\Local\\Temp\\ipykernel_11796\\268501746.py:4: FutureWarning: The default dtype for empty Series will be 'object' instead of 'float64' in a future version. Specify a dtype explicitly to silence this warning.\n",
      "  final_sample = pd.Series() # [1,2,4,3]\n",
      "C:\\Users\\techm\\AppData\\Local\\Temp\\ipykernel_11796\\268501746.py:4: FutureWarning: The default dtype for empty Series will be 'object' instead of 'float64' in a future version. Specify a dtype explicitly to silence this warning.\n",
      "  final_sample = pd.Series() # [1,2,4,3]\n",
      "C:\\Users\\techm\\AppData\\Local\\Temp\\ipykernel_11796\\268501746.py:4: FutureWarning: The default dtype for empty Series will be 'object' instead of 'float64' in a future version. Specify a dtype explicitly to silence this warning.\n",
      "  final_sample = pd.Series() # [1,2,4,3]\n"
     ]
    }
   ],
   "source": [
    "position_sampling_means = []\n",
    "\n",
    "for i in range(100): # i = 0\n",
    "    final_sample = pd.Series() # [1,2,4,3]\n",
    "    count = 0 # 1\n",
    "    for j in stratums_name: # j = F\n",
    "        sample = stratums.get_group(j)[\"PTS\"].sample(sample_size_position[count], random_state = i)\n",
    "        final_sample = pd.concat([final_sample,sample])\n",
    "        count += 1\n",
    "    \n",
    "    mean = round(final_sample.mean(),2)\n",
    "    position_sampling_means.append(mean)"
   ]
  },
  {
   "cell_type": "code",
   "execution_count": 94,
   "id": "4d48dece",
   "metadata": {},
   "outputs": [
    {
     "data": {
      "text/plain": [
       "131    572\n",
       "98     207\n",
       "Name: PTS, dtype: int64"
      ]
     },
     "execution_count": 94,
     "metadata": {},
     "output_type": "execute_result"
    }
   ],
   "source": [
    "stratums.get_group(\"C\")[\"PTS\"].sample(sample_size_position[0])"
   ]
  },
  {
   "cell_type": "code",
   "execution_count": 98,
   "id": "adb8a293",
   "metadata": {},
   "outputs": [
    {
     "name": "stdout",
     "output_type": "stream",
     "text": [
      "[209.1, 251.2, 197.6, 175.8, 252.1, 129.7, 257.5, 200.1, 180.6, 155.2, 158.3, 187.1, 186.5, 182.9, 159.5, 267.6, 138.5, 236.9, 173.9, 149.8, 239.5, 164.3, 268.3, 201.9, 261.1, 255.4, 198.3, 217.3, 272.7, 185.3, 158.3, 268.8, 203.3, 162.3, 179.2, 248.4, 219.9, 201.5, 261.9, 318.3, 284.7, 151.3, 168.1, 168.0, 207.4, 201.9, 135.6, 224.6, 199.1, 280.4, 210.7, 240.3, 183.6, 185.5, 276.1, 163.0, 215.7, 161.3, 191.2, 277.0, 263.1, 214.8, 217.1, 172.5, 215.8, 236.9, 202.0, 219.1, 288.1, 178.7, 224.6, 266.4, 257.8, 196.3, 177.0, 169.4, 274.7, 280.3, 167.8, 144.0, 163.3, 261.7, 223.6, 152.9, 132.2, 158.2, 195.6, 185.0, 251.1, 152.3, 220.0, 264.9, 192.3, 199.5, 261.0, 214.8, 214.2, 278.7, 135.0, 181.0]\n"
     ]
    }
   ],
   "source": [
    "print(position_sampling_means)"
   ]
  },
  {
   "cell_type": "code",
   "execution_count": 99,
   "id": "94e48c84",
   "metadata": {},
   "outputs": [
    {
     "data": {
      "image/png": "[encoded data removed]",
      "text/plain": [
       "<Figure size 640x480 with 1 Axes>"
      ]
     },
     "metadata": {},
     "output_type": "display_data"
    }
   ],
   "source": [
    "plt.scatter(range(1,101), position_sampling_means)\n",
    "plt.ylim(100,350)\n",
    "plt.axhline(population_mean, color = \"red\")\n",
    "plt.show()"
   ]
  },
  {
   "cell_type": "code",
   "execution_count": 106,
   "id": "2b5157c4",
   "metadata": {},
   "outputs": [
    {
     "data": {
      "text/plain": [
       "(20.983999999999998, 26.0]    49.0\n",
       "(26.0, 31.0]                  36.0\n",
       "(31.0, 36.0]                  15.0\n",
       "Name: Age, dtype: float64"
      ]
     },
     "execution_count": 106,
     "metadata": {},
     "output_type": "execute_result"
    }
   ],
   "source": [
    "round(dataset[\"Age\"].value_counts(bins = 3, normalize = True)*100).sort_index()"
   ]
  },
  {
   "cell_type": "code",
   "execution_count": 107,
   "id": "bc2cc6b1",
   "metadata": {},
   "outputs": [],
   "source": [
    "under_26 = dataset[dataset[\"Age\"] <= 26] # 5\n",
    "btw_27_31 = dataset[dataset[\"Age\"].between(27,31)] # 4\n",
    "btw_31_36 = dataset[dataset[\"Age\"].between(32,36)] # 1"
   ]
  },
  {
   "cell_type": "code",
   "execution_count": 108,
   "id": "6d2bd736",
   "metadata": {},
   "outputs": [],
   "source": [
    "proportional_sampling_means = []\n",
    "\n",
    "for i in range(100):\n",
    "    sample_under_26 = under_26[\"PTS\"].sample(5, random_state = i)\n",
    "    sample_btw_27_31 = btw_27_31[\"PTS\"].sample(4, random_state = i)\n",
    "    sample_btw_31_36 = btw_31_36[\"PTS\"].sample(1, random_state = i)\n",
    "    final_sample = pd.concat([sample_under_26, sample_btw_27_31,sample_btw_31_36])\n",
    "    mean = final_sample.mean()\n",
    "    proportional_sampling_means.append(mean)"
   ]
  },
  {
   "cell_type": "code",
   "execution_count": 109,
   "id": "6aaf7a55",
   "metadata": {},
   "outputs": [
    {
     "data": {
      "text/plain": [
       "[271.0, 204.6, 232.2, 213.0, 241.3]"
      ]
     },
     "execution_count": 109,
     "metadata": {},
     "output_type": "execute_result"
    }
   ],
   "source": [
    "proportional_sampling_means[:5]"
   ]
  },
  {
   "cell_type": "code",
   "execution_count": 110,
   "id": "5e37b553",
   "metadata": {},
   "outputs": [
    {
     "data": {
      "image/png": "[encoded data removed]",
      "text/plain": [
       "<Figure size 640x480 with 1 Axes>"
      ]
     },
     "metadata": {},
     "output_type": "display_data"
    }
   ],
   "source": [
    "plt.scatter(range(1,101), proportional_sampling_means)\n",
    "plt.ylim(100,350)\n",
    "plt.axhline(population_mean, color = \"red\")\n",
    "plt.show()"
   ]
  },
  {
   "cell_type": "code",
   "execution_count": 111,
   "id": "2135f9ee",
   "metadata": {},
   "outputs": [
    {
     "data": {
      "text/plain": [
       "(1.969, 12.0]     9.0\n",
       "(12.0, 22.0]     18.0\n",
       "(22.0, 32.0]     73.0\n",
       "Name: Games Played, dtype: float64"
      ]
     },
     "execution_count": 111,
     "metadata": {},
     "output_type": "execute_result"
    }
   ],
   "source": [
    "round(dataset[\"Games Played\"].value_counts(bins = 3, normalize = True)*100).sort_index()"
   ]
  },
  {
   "cell_type": "code",
   "execution_count": 112,
   "id": "5a0d4a30",
   "metadata": {},
   "outputs": [],
   "source": [
    "under_26 = dataset[dataset[\"Games Played\"] <= 12] # 1\n",
    "btw_27_31 = dataset[dataset[\"Games Played\"].between(13,22)] # 2\n",
    "btw_31_36 = dataset[dataset[\"Games Played\"] > 22] # 7"
   ]
  },
  {
   "cell_type": "code",
   "execution_count": 113,
   "id": "51275dc3",
   "metadata": {},
   "outputs": [],
   "source": [
    "proportional_sampling_means = []\n",
    "\n",
    "for i in range(100):\n",
    "    sample_under_26 = under_26[\"PTS\"].sample(1, random_state = i)\n",
    "    sample_btw_27_31 = btw_27_31[\"PTS\"].sample(2, random_state = i)\n",
    "    sample_btw_31_36 = btw_31_36[\"PTS\"].sample(7, random_state = i)\n",
    "    final_sample = pd.concat([sample_under_26, sample_btw_27_31,sample_btw_31_36])\n",
    "    mean = final_sample.mean()\n",
    "    proportional_sampling_means.append(mean)"
   ]
  },
  {
   "cell_type": "code",
   "execution_count": 114,
   "id": "6c32940d",
   "metadata": {},
   "outputs": [
    {
     "data": {
      "image/png": "[encoded data removed]",
      "text/plain": [
       "<Figure size 640x480 with 1 Axes>"
      ]
     },
     "metadata": {},
     "output_type": "display_data"
    }
   ],
   "source": [
    "plt.scatter(range(1,101), proportional_sampling_means)\n",
    "plt.ylim(100,350)\n",
    "plt.axhline(population_mean, color = \"red\")\n",
    "plt.show()"
   ]
  },
  {
   "cell_type": "code",
   "execution_count": 115,
   "id": "7d0bc158",
   "metadata": {},
   "outputs": [
    {
     "data": {
      "text/plain": [
       "(143, 23)"
      ]
     },
     "execution_count": 115,
     "metadata": {},
     "output_type": "execute_result"
    }
   ],
   "source": [
    "dataset.shape"
   ]
  },
  {
   "cell_type": "code",
   "execution_count": 117,
   "id": "f3865d0e",
   "metadata": {},
   "outputs": [
    {
     "name": "stderr",
     "output_type": "stream",
     "text": [
      "C:\\Users\\techm\\AppData\\Local\\Temp\\ipykernel_11796\\2335090366.py:1: FutureWarning: The default value of numeric_only in DataFrame.corr is deprecated. In a future version, it will default to False. Select only valid columns or specify the value of numeric_only to silence this warning.\n",
      "  dataset.corr()[\"PTS\"]\n"
     ]
    },
    {
     "data": {
      "text/plain": [
       "Height         -0.079693\n",
       "Weight         -0.175402\n",
       "BMI            -0.177784\n",
       "Age             0.181627\n",
       "Games Played    0.579865\n",
       "MIN             0.911765\n",
       "OREB            0.552194\n",
       "DREB            0.791013\n",
       "REB             0.750190\n",
       "AST             0.653877\n",
       "STL             0.747929\n",
       "BLK             0.544916\n",
       "TO              0.860161\n",
       "PTS             1.000000\n",
       "DD2             0.569945\n",
       "TD3             0.160436\n",
       "Name: PTS, dtype: float64"
      ]
     },
     "execution_count": 117,
     "metadata": {},
     "output_type": "execute_result"
    }
   ],
   "source": [
    "dataset.corr()[\"PTS\"]"
   ]
  },
  {
   "cell_type": "code",
   "execution_count": 118,
   "id": "ca8bc2f4",
   "metadata": {},
   "outputs": [
    {
     "data": {
      "text/plain": [
       "(10.993, 347.333]     34.0\n",
       "(347.333, 682.667]    35.0\n",
       "(682.667, 1018.0]     31.0\n",
       "Name: MIN, dtype: float64"
      ]
     },
     "execution_count": 118,
     "metadata": {},
     "output_type": "execute_result"
    }
   ],
   "source": [
    "round(dataset[\"MIN\"].value_counts(bins = 3, normalize = True)*100).sort_index()"
   ]
  },
  {
   "cell_type": "code",
   "execution_count": 121,
   "id": "ab304e67",
   "metadata": {},
   "outputs": [],
   "source": [
    "under_26 = dataset[dataset[\"MIN\"] <= 347.333] # 3\n",
    "btw_27_31 = dataset[dataset[\"MIN\"].between(347.334,682.667)] # 4\n",
    "btw_31_36 = dataset[dataset[\"MIN\"] > 682.667] # 3"
   ]
  },
  {
   "cell_type": "code",
   "execution_count": 122,
   "id": "b7f4f585",
   "metadata": {},
   "outputs": [],
   "source": [
    "proportional_sampling_means = []\n",
    "\n",
    "for i in range(100):\n",
    "    sample_under_26 = under_26[\"PTS\"].sample(3, random_state = i)\n",
    "    sample_btw_27_31 = btw_27_31[\"PTS\"].sample(4, random_state = i)\n",
    "    sample_btw_31_36 = btw_31_36[\"PTS\"].sample(3, random_state = i)\n",
    "    final_sample = pd.concat([sample_under_26, sample_btw_27_31,sample_btw_31_36])\n",
    "    mean = final_sample.mean()\n",
    "    proportional_sampling_means.append(mean)"
   ]
  },
  {
   "cell_type": "code",
   "execution_count": 123,
   "id": "76dc034d",
   "metadata": {},
   "outputs": [
    {
     "data": {
      "image/png": "[encoded data removed]",
      "text/plain": [
       "<Figure size 640x480 with 1 Axes>"
      ]
     },
     "metadata": {},
     "output_type": "display_data"
    }
   ],
   "source": [
    "plt.scatter(range(1,101), proportional_sampling_means)\n",
    "plt.ylim(100,350)\n",
    "plt.axhline(population_mean, color = \"red\")\n",
    "plt.show()"
   ]
  },
  {
   "cell_type": "code",
   "execution_count": 124,
   "id": "f2666abb",
   "metadata": {},
   "outputs": [],
   "source": [
    "proportional_sampling_means = []\n",
    "\n",
    "for i in range(100):\n",
    "    sample_under_26 = under_26[\"PTS\"].sample(6, random_state = i)\n",
    "    sample_btw_27_31 = btw_27_31[\"PTS\"].sample(8, random_state = i)\n",
    "    sample_btw_31_36 = btw_31_36[\"PTS\"].sample(6, random_state = i)\n",
    "    final_sample = pd.concat([sample_under_26, sample_btw_27_31,sample_btw_31_36])\n",
    "    mean = final_sample.mean()\n",
    "    proportional_sampling_means.append(mean)"
   ]
  },
  {
   "cell_type": "code",
   "execution_count": 125,
   "id": "6258d903",
   "metadata": {},
   "outputs": [
    {
     "data": {
      "image/png": "[encoded data removed]",
      "text/plain": [
       "<Figure size 640x480 with 1 Axes>"
      ]
     },
     "metadata": {},
     "output_type": "display_data"
    }
   ],
   "source": [
    "plt.scatter(range(1,101), proportional_sampling_means)\n",
    "plt.ylim(100,350)\n",
    "plt.axhline(population_mean, color = \"red\")\n",
    "plt.show()"
   ]
  },
  {
   "cell_type": "code",
   "execution_count": null,
   "id": "f500cb73",
   "metadata": {},
   "outputs": [],
   "source": []
  }
 ],
 "metadata": {
  "kernelspec": {
   "display_name": "Python 3 (ipykernel)",
   "language": "python",
   "name": "python3"
  },
  "language_info": {
   "codemirror_mode": {
    "name": "ipython",
    "version": 3
   },
   "file_extension": ".py",
   "mimetype": "text/x-python",
   "name": "python",
   "nbconvert_exporter": "python",
   "pygments_lexer": "ipython3",
   "version": "3.11.4"
  }
 },
 "nbformat": 4,
 "nbformat_minor": 5
}
